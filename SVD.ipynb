{
 "cells": [
  {
   "cell_type": "code",
   "execution_count": 2,
   "metadata": {},
   "outputs": [],
   "source": [
    "import numpy as np\n"
   ]
  },
  {
   "cell_type": "code",
   "execution_count": 50,
   "metadata": {},
   "outputs": [],
   "source": [
    "A = [[5,4,1],[5,5,0], [0,0,5], [1,0,4]]\n",
    "P,D,Q = np.linalg.svd(A)"
   ]
  },
  {
   "cell_type": "code",
   "execution_count": 66,
   "metadata": {},
   "outputs": [
    {
     "data": {
      "text/plain": [
       "((4, 4), (3,), (3, 3))"
      ]
     },
     "execution_count": 66,
     "metadata": {},
     "output_type": "execute_result"
    }
   ],
   "source": [
    "P.shape, D.shape, Q.shape"
   ]
  },
  {
   "cell_type": "code",
   "execution_count": 54,
   "metadata": {},
   "outputs": [
    {
     "data": {
      "text/plain": [
       "array([[9.6438109 , 0.        , 0.        ],\n",
       "       [0.        , 6.36389089, 0.        ],\n",
       "       [0.        , 0.        , 0.70555232],\n",
       "       [0.        , 0.        , 0.        ]])"
      ]
     },
     "execution_count": 54,
     "metadata": {},
     "output_type": "execute_result"
    }
   ],
   "source": [
    "smat = np.zeros((P.shape[1], Q.shape[0]))\n",
    "\n",
    "smat[:Q.shape[0], :Q.shape[0]] = np.diag(D)\n",
    "smat"
   ]
  },
  {
   "cell_type": "code",
   "execution_count": 65,
   "metadata": {},
   "outputs": [
    {
     "ename": "ValueError",
     "evalue": "operands could not be broadcast together with shapes (4,) (3,) ",
     "output_type": "error",
     "traceback": [
      "\u001b[1;31m---------------------------------------------------------------------------\u001b[0m",
      "\u001b[1;31mValueError\u001b[0m                                Traceback (most recent call last)",
      "Cell \u001b[1;32mIn[65], line 3\u001b[0m\n\u001b[0;32m      1\u001b[0m first_column_P \u001b[38;5;241m=\u001b[39m P[:, \u001b[38;5;241m0\u001b[39m]\n\u001b[0;32m      2\u001b[0m first_column_P\u001b[38;5;241m.\u001b[39mshape, smat[:,\u001b[38;5;241m0\u001b[39m]\u001b[38;5;241m.\u001b[39mshape\n\u001b[1;32m----> 3\u001b[0m \u001b[43m(\u001b[49m\u001b[43mfirst_column_P\u001b[49m\u001b[38;5;241;43m*\u001b[39;49m\u001b[43msmat\u001b[49m\u001b[43m[\u001b[49m\u001b[38;5;241;43m0\u001b[39;49m\u001b[43m,\u001b[49m\u001b[38;5;241;43m0\u001b[39;49m\u001b[43m]\u001b[49m\u001b[43m)\u001b[49m\u001b[38;5;241;43m*\u001b[39;49m\u001b[43mQ\u001b[49m\u001b[43m[\u001b[49m\u001b[38;5;241;43m0\u001b[39;49m\u001b[43m]\u001b[49m\n",
      "\u001b[1;31mValueError\u001b[0m: operands could not be broadcast together with shapes (4,) (3,) "
     ]
    }
   ],
   "source": [
    "first_column_P = P[:, 0]\n",
    "first_column_P.shape, smat[:,0].shape\n",
    "(first_column_P*smat[0,0])*Q[0]"
   ]
  },
  {
   "cell_type": "code",
   "execution_count": 53,
   "metadata": {},
   "outputs": [
    {
     "ename": "ValueError",
     "evalue": "matmul: Input operand 1 has a mismatch in its core dimension 0, with gufunc signature (n?,k),(k,m?)->(n?,m?) (size 2 is different from 4)",
     "output_type": "error",
     "traceback": [
      "\u001b[1;31m---------------------------------------------------------------------------\u001b[0m",
      "\u001b[1;31mValueError\u001b[0m                                Traceback (most recent call last)",
      "Cell \u001b[1;32mIn[53], line 1\u001b[0m\n\u001b[1;32m----> 1\u001b[0m np\u001b[38;5;241m.\u001b[39mround(\u001b[43mP\u001b[49m\u001b[38;5;129;43m@smat\u001b[39;49m, \u001b[38;5;241m2\u001b[39m)\u001b[38;5;241m.\u001b[39mreal\n",
      "\u001b[1;31mValueError\u001b[0m: matmul: Input operand 1 has a mismatch in its core dimension 0, with gufunc signature (n?,k),(k,m?)->(n?,m?) (size 2 is different from 4)"
     ]
    }
   ],
   "source": [
    "\n",
    "\n",
    "np.round(P@smat, 2).real"
   ]
  },
  {
   "cell_type": "code",
   "execution_count": 15,
   "metadata": {},
   "outputs": [
    {
     "data": {
      "text/plain": [
       "((9, 9), (6,), (6, 6))"
      ]
     },
     "execution_count": 15,
     "metadata": {},
     "output_type": "execute_result"
    }
   ],
   "source": [
    "rng = np.random.default_rng()\n",
    "\n",
    "a = rng.normal(size=(9, 6)) + 1j*rng.normal(size=(9, 6))\n",
    "\n",
    "b = rng.normal(size=(2, 7, 8, 3)) + 1j*rng.normal(size=(2, 7, 8, 3))\n",
    "\n",
    "U, S, Vh = np.linalg.svd(a, full_matrices=True)\n",
    "\n",
    "U.shape, S.shape, Vh.shape"
   ]
  },
  {
   "cell_type": "markdown",
   "metadata": {},
   "source": [
    "Co się stanie, gdy będą tylko dwa filmy z jednego gatunku:"
   ]
  },
  {
   "cell_type": "code",
   "execution_count": 24,
   "metadata": {},
   "outputs": [
    {
     "data": {
      "text/plain": [
       "(array([[-0.67507785, -0.7377465 ],\n",
       "        [-0.7377465 ,  0.67507785]]),\n",
       " array([9.54868724, 0.90695756]),\n",
       " array([[-0.73980031, -0.66910181, -0.0706985 ],\n",
       "        [-0.34548831,  0.4679417 , -0.81343001],\n",
       "        [-0.57735027,  0.57735027,  0.57735027]]))"
      ]
     },
     "execution_count": 24,
     "metadata": {},
     "output_type": "execute_result"
    }
   ],
   "source": [
    "A = [[5,4,1],[5,5,0]]\n",
    "P,D,Q = np.linalg.svd(A)\n",
    "P,D,Q"
   ]
  },
  {
   "cell_type": "markdown",
   "metadata": {},
   "source": [
    "Co, gdy będą dwa różne filmy"
   ]
  },
  {
   "cell_type": "code",
   "execution_count": 25,
   "metadata": {},
   "outputs": [
    {
     "data": {
      "text/plain": [
       "(array([[-0.96486637, -0.26274111],\n",
       "        [-0.26274111,  0.96486637]]),\n",
       " array([6.5849481 , 4.86193979]),\n",
       " array([[-7.32630199e-01, -5.86104160e-01, -3.46027318e-01],\n",
       "        [-2.70201940e-01, -2.16161552e-01,  9.38224437e-01],\n",
       "        [-6.24695048e-01,  7.80868809e-01,  2.42861287e-16]]))"
      ]
     },
     "execution_count": 25,
     "metadata": {},
     "output_type": "execute_result"
    }
   ],
   "source": [
    "A = [[5,4,1], [0,0,5]]\n",
    "P,D,Q = np.linalg.svd(A)\n",
    "P,D,Q"
   ]
  },
  {
   "cell_type": "code",
   "execution_count": 36,
   "metadata": {},
   "outputs": [
    {
     "data": {
      "text/plain": [
       "array([[-6.35359495, -1.27743147,  0.        ],\n",
       "       [-1.73013659,  4.69112219,  0.        ]])"
      ]
     },
     "execution_count": 36,
     "metadata": {},
     "output_type": "execute_result"
    }
   ],
   "source": [
    "smat = np.zeros((P.shape[1], Q.shape[0]))\n",
    "\n",
    "dimension = min(P.shape[1], Q.shape[0])\n",
    "smat[:dimension, :dimension] = np.diag(D)\n",
    "# = np.diag(D)\n",
    "P@smat"
   ]
  },
  {
   "cell_type": "code",
   "execution_count": 30,
   "metadata": {},
   "outputs": [
    {
     "data": {
      "text/plain": [
       "array([[-6.24695048e-01,  7.80868809e-01,  2.42861287e-16]])"
      ]
     },
     "execution_count": 30,
     "metadata": {},
     "output_type": "execute_result"
    }
   ],
   "source": [
    "Q[2:]"
   ]
  },
  {
   "cell_type": "markdown",
   "metadata": {},
   "source": [
    "Co gdy będą trzy filmy tego samego gatunku"
   ]
  },
  {
   "cell_type": "code",
   "execution_count": 38,
   "metadata": {},
   "outputs": [
    {
     "data": {
      "text/plain": [
       "(array([[-0.56,  0.71,  0.43],\n",
       "        [-0.61,  0.  , -0.79],\n",
       "        [-0.56, -0.71,  0.43]]),\n",
       " array([11.5 ,  1.  ,  0.87]),\n",
       " array([[-0.7 , -0.7 , -0.1 ],\n",
       "        [ 0.71, -0.71, -0.  ],\n",
       "        [-0.07, -0.07,  1.  ]]))"
      ]
     },
     "execution_count": 38,
     "metadata": {},
     "output_type": "execute_result"
    }
   ],
   "source": [
    "A = [[5,4,1],[5,5,0], [4,5,1]]\n",
    "P,D,Q = np.linalg.svd(A)\n",
    "np.round(P,2),np.round(D,2),np.round(Q,2)"
   ]
  },
  {
   "cell_type": "markdown",
   "metadata": {},
   "source": [
    "Podzielmy przez pierwszy wektor z macierzy P, czyli [-0.56, -0.61, -0.56]"
   ]
  },
  {
   "cell_type": "code",
   "execution_count": 49,
   "metadata": {},
   "outputs": [
    {
     "data": {
      "text/plain": [
       "array([11.48, 11.54, 11.48])"
      ]
     },
     "execution_count": 49,
     "metadata": {},
     "output_type": "execute_result"
    }
   ],
   "source": [
    "np.round((A@Q[0])/[-0.56,-0.61,-0.56],2)"
   ]
  },
  {
   "cell_type": "markdown",
   "metadata": {},
   "source": [
    "Otrzymujemy 11.5, czyli pierwszą wartość osobliwą z macierzy D"
   ]
  },
  {
   "cell_type": "code",
   "execution_count": 39,
   "metadata": {},
   "outputs": [
    {
     "data": {
      "text/plain": [
       "array([[-6.43,  0.71,  0.38],\n",
       "       [-7.04,  0.  , -0.69],\n",
       "       [-6.43, -0.71,  0.38]])"
      ]
     },
     "execution_count": 39,
     "metadata": {},
     "output_type": "execute_result"
    }
   ],
   "source": [
    "np.round(P@np.diag(D),2)"
   ]
  }
 ],
 "metadata": {
  "kernelspec": {
   "display_name": ".venv",
   "language": "python",
   "name": "python3"
  },
  "language_info": {
   "codemirror_mode": {
    "name": "ipython",
    "version": 3
   },
   "file_extension": ".py",
   "mimetype": "text/x-python",
   "name": "python",
   "nbconvert_exporter": "python",
   "pygments_lexer": "ipython3",
   "version": "3.11.9"
  }
 },
 "nbformat": 4,
 "nbformat_minor": 2
}
